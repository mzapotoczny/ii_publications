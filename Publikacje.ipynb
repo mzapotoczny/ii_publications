{
 "cells": [
  {
   "cell_type": "code",
   "execution_count": 1,
   "metadata": {},
   "outputs": [
    {
     "name": "stdout",
     "output_type": "stream",
     "text": [
      "Populating the interactive namespace from numpy and matplotlib\n"
     ]
    }
   ],
   "source": [
    "%pylab inline"
   ]
  },
  {
   "cell_type": "code",
   "execution_count": 2,
   "metadata": {
    "collapsed": true
   },
   "outputs": [],
   "source": [
    "import urllib\n",
    "from bs4 import BeautifulSoup\n",
    "from IPython.core.display import display, HTML"
   ]
  },
  {
   "cell_type": "code",
   "execution_count": 3,
   "metadata": {
    "collapsed": true
   },
   "outputs": [],
   "source": [
    "URL='http://selene.bu.uni.wroc.pl:8000/publikacje/ItemsList.php?Ind=7&Str=First&Item=Instytut%20Informatyki&Wydz=0&Ekr=0&GrTyp=0'"
   ]
  },
  {
   "cell_type": "code",
   "execution_count": 4,
   "metadata": {
    "collapsed": true
   },
   "outputs": [],
   "source": [
    "def get_page(page):\n",
    "    return urllib.request.urlopen(page).read()\n",
    "\n",
    "def normalize_name(name): # Imię 2Imię Nazwisko -> I. Nazwisko\n",
    "    names = name.split(' ')\n",
    "    return '{}. {}'.format(names[0][0], names[-1])"
   ]
  },
  {
   "cell_type": "code",
   "execution_count": 5,
   "metadata": {
    "collapsed": true
   },
   "outputs": [],
   "source": [
    "page=get_page(URL)"
   ]
  },
  {
   "cell_type": "code",
   "execution_count": 6,
   "metadata": {
    "collapsed": true
   },
   "outputs": [],
   "source": [
    "code = BeautifulSoup(page, \"lxml\")"
   ]
  },
  {
   "cell_type": "code",
   "execution_count": 7,
   "metadata": {},
   "outputs": [
    {
     "name": "stdout",
     "output_type": "stream",
     "text": [
      "Liczba publikacji:  85\n"
     ]
    }
   ],
   "source": [
    "pub_table = code.find('table', attrs={'class':'Kk'})\n",
    "pubs = []\n",
    "for pub in pub_table.find_all(\"tr\", recursive=False):\n",
    "    ii_authors = pub.find('td', attrs={'class': 'KK-HG'}).string\n",
    "    descr_td = pub.find('td', attrs={'class': 'KK-1'})\n",
    "    descr = descr_td.contents\n",
    "    info = descr_td.find_next('td', attrs={'class': 'KK-1'})\n",
    "    ii_authors = [a.strip() for a in ii_authors.split(',')] # lista autorów z ii\n",
    "    ii_authors = [' '.join(a.split(' ')[:2]) for a in ii_authors] # Usuń 2 imiona\n",
    "    pubs += [(ii_authors, descr, info)]\n",
    "print(\"Liczba publikacji: \", len(pubs))"
   ]
  },
  {
   "cell_type": "code",
   "execution_count": 8,
   "metadata": {
    "collapsed": true
   },
   "outputs": [],
   "source": [
    "all_ii_authors = set()\n",
    "for authors, descr, info in pubs:\n",
    "    all_ii_authors |= set(authors)"
   ]
  },
  {
   "cell_type": "code",
   "execution_count": 9,
   "metadata": {
    "collapsed": true
   },
   "outputs": [],
   "source": [
    "publications = []\n",
    "\n",
    "for iiauthors, descr, info in pubs:\n",
    "    #authors = ', '.join([to_norm_name(a) for a in authors])\n",
    "    title, authors = descr[0].split(' / ')\n",
    "    bib_index = authors.find('Bibliogr')\n",
    "    if bib_index >= 0:\n",
    "        authors = authors[:bib_index]\n",
    "    authors = [normalize_name(a) for a in authors.split(', ')]\n",
    "    authors = ', '.join(authors)\n",
    "    \n",
    "    source = descr[2]\n",
    "    bib_index = source.find(': il.')\n",
    "    if bib_index >= 0:\n",
    "        source = source[:bib_index]\n",
    "    if source.startswith('// '):\n",
    "        source = source[3:]\n",
    "    if source.startswith('W: '):\n",
    "        source = source[3:]\n",
    "\n",
    "    abstract = None\n",
    "    try:\n",
    "        abstract = info.find('a').text\n",
    "    except AttributeError:\n",
    "        pass\n",
    "    \n",
    "    publications.append((\n",
    "        set(iiauthors),\n",
    "        authors,\n",
    "        title,\n",
    "        source,\n",
    "        abstract\n",
    "    ))"
   ]
  },
  {
   "cell_type": "code",
   "execution_count": 10,
   "metadata": {
    "collapsed": true
   },
   "outputs": [],
   "source": [
    "SAM='Samodzielny'\n",
    "PGK='Pracownia Grafiki Komputerowej'\n",
    "ZIOB='Zakład Inteligencji Obliczeniowej'\n",
    "ZIO='Zakład Inżynierii Oprogramowania'\n",
    "ZJP='Zakład Języków Programowania'\n",
    "ZMN='Zakład Metod Numerycznych'\n",
    "ZOK='Zakład Optymalizacji Kombinatorycznej'\n",
    "ZTI='Zakład Teorii Informatyki i Baz Danych'\n",
    "ZZOIA='Zakład Złożoności Obliczeniowej i Algorytmów'\n",
    "STU='STUDENT'\n",
    "UNK='UNK'\n",
    "\n",
    "authors_map = {\n",
    " 'Bartkowiak Anna' : ZMN,\n",
    " 'Bednarczyk Bartosz' : ZJP,\n",
    " 'Biernacki Dariusz' : ZJP,\n",
    " 'Bieńkowski Marcin' : ZOK,\n",
    " 'Byrka Jarosław' : ZOK,\n",
    " 'Charatonik Witold' : ZJP,\n",
    " 'Chorowski Jan' : ZIOB,\n",
    " 'Chudy Filip' : ZMN,\n",
    " 'Danielski Daniel': STU,\n",
    " 'Derkowski Piotr': STU,\n",
    " 'Dudek Bartłomiej': ZZOIA,\n",
    " 'Dudycz Szymon' : ZOK,\n",
    " 'Ferens Robert': ZZOIA,\n",
    " 'Garncarek Paweł': ZZOIA,\n",
    " 'Gawrychowski Paweł': ZZOIA,\n",
    " 'Gańczorz Michał': ZZOIA,\n",
    " 'Ghosal Pratik' : ZOK,\n",
    " 'Głuch Grzegorz': STU,\n",
    " 'Jeż Artur': ZZOIA,\n",
    " 'Jeż Łukasz' : ZOK,\n",
    " 'Jurdziński Tomasz': ZZOIA,\n",
    " 'Karpiński Michał': ZZOIA,\n",
    " 'Kieroński Emanuel': ZTI,\n",
    " 'Kisielewicz Andrzej': ZZOIA,\n",
    " 'Kowalski Jakub' : ZIOB,\n",
    " 'Kraska Artur': ZOK,\n",
    " 'Kunysz Adam' : ZOK,\n",
    " 'Laskoś-Grabowski Paweł': ZOK,\n",
    " 'Lewandowski Mateusz' : ZOK,\n",
    " 'Liu Hsiang-Hsuan' : ZOK,\n",
    " 'Loryś Krzysztof': ZZOIA,\n",
    " 'Malik Szymon': STU,\n",
    " 'Marcinkowski Jan' : ZOK,\n",
    " 'Marcinkowski Jerzy': ZTI,\n",
    " 'Michaliszyn Jakub': ZTI,\n",
    " 'Miernik Radosław': STU,\n",
    " 'Nowak Rafał' : ZMN,\n",
    " 'Nowicki Krzysztof': ZZOIA,\n",
    " 'Ostropolski-Nalewaja Piotr': ZTI,\n",
    " 'Otop Jan': ZTI,\n",
    " 'Paluch Katarzyna' : ZOK,\n",
    " 'Pawlikowski Maciej': STU,\n",
    " 'Piecuch Krzysztof' : ZOK,\n",
    " 'Piróg Maciej' : ZJP,\n",
    " 'Polesiuk Piotr' : ZJP,\n",
    " 'Pytlik Piotr': STU,\n",
    " 'Rajba Paweł' : ZMN,\n",
    " 'Rybicki Bartosz': ZOK,\n",
    " 'Rychlikowski Paweł' : ZIOB,\n",
    " 'Różański Michał': ZZOIA,\n",
    " 'Schmidt Paweł' : ZOK,\n",
    " 'Sieczkowski Filip' : ZJP,\n",
    " 'Siwek Cezary': STU,\n",
    " 'Sornat Krzysztof' : ZOK,\n",
    " 'Spoerhase Joachim': ZOK,\n",
    " 'Spyra Aleksandra' : STU,\n",
    " 'Stachowiak Grzegorz': ZZOIA,\n",
    " 'Szykuła Marek': ZZOIA,\n",
    " 'Sękowski Jakub': STU,\n",
    " 'Wieczorek Paweł' : ZJP,\n",
    " 'Wieczorek Piotr': ZTI,\n",
    " 'Witkowski Piotr': ZJP,\n",
    " 'Wnuk-Lipiński Piotr' : ZIOB,\n",
    " 'Woźny Paweł' : ZMN,\n",
    " 'Zykowski Paweł': STU,\n",
    " 'Łańcucki Adrian' : ZIOB,\n",
    " 'Łopuszański Jakub': ZZOIA,\n",
    " 'Żarczyński Łukasz': ZZOIA}"
   ]
  },
  {
   "cell_type": "code",
   "execution_count": 11,
   "metadata": {},
   "outputs": [],
   "source": [
    "group_map = {}\n",
    "for k,v in authors_map.items():\n",
    "    if v not in group_map:\n",
    "        group_map[v] = set()\n",
    "    group_map[v].add(k)"
   ]
  },
  {
   "cell_type": "code",
   "execution_count": 12,
   "metadata": {
    "collapsed": true
   },
   "outputs": [],
   "source": [
    "displ = ''\n",
    "for k, v in group_map.items():\n",
    "    displ += '<h3>{}</h3><ul>'.format(k)\n",
    "    for author in sorted(v):\n",
    "        displ += '<li>{}</li>'.format(author)\n",
    "    displ += '</ul>'"
   ]
  },
  {
   "cell_type": "code",
   "execution_count": 13,
   "metadata": {},
   "outputs": [
    {
     "data": {
      "text/html": [
       "<h3>Zakład Metod Numerycznych</h3><ul><li>Bartkowiak Anna</li><li>Chudy Filip</li><li>Nowak Rafał</li><li>Rajba Paweł</li><li>Woźny Paweł</li></ul><h3>Zakład Języków Programowania</h3><ul><li>Bednarczyk Bartosz</li><li>Biernacki Dariusz</li><li>Charatonik Witold</li><li>Piróg Maciej</li><li>Polesiuk Piotr</li><li>Sieczkowski Filip</li><li>Wieczorek Paweł</li><li>Witkowski Piotr</li></ul><h3>Zakład Optymalizacji Kombinatorycznej</h3><ul><li>Bieńkowski Marcin</li><li>Byrka Jarosław</li><li>Dudycz Szymon</li><li>Ghosal Pratik</li><li>Jeż Łukasz</li><li>Kraska Artur</li><li>Kunysz Adam</li><li>Laskoś-Grabowski Paweł</li><li>Lewandowski Mateusz</li><li>Liu Hsiang-Hsuan</li><li>Marcinkowski Jan</li><li>Paluch Katarzyna</li><li>Piecuch Krzysztof</li><li>Rybicki Bartosz</li><li>Schmidt Paweł</li><li>Sornat Krzysztof</li><li>Spoerhase Joachim</li></ul><h3>Zakład Inteligencji Obliczeniowej</h3><ul><li>Chorowski Jan</li><li>Kowalski Jakub</li><li>Rychlikowski Paweł</li><li>Wnuk-Lipiński Piotr</li><li>Łańcucki Adrian</li></ul><h3>STUDENT</h3><ul><li>Danielski Daniel</li><li>Derkowski Piotr</li><li>Głuch Grzegorz</li><li>Malik Szymon</li><li>Miernik Radosław</li><li>Pawlikowski Maciej</li><li>Pytlik Piotr</li><li>Siwek Cezary</li><li>Spyra Aleksandra</li><li>Sękowski Jakub</li><li>Zykowski Paweł</li></ul><h3>Zakład Złożoności Obliczeniowej i Algorytmów</h3><ul><li>Dudek Bartłomiej</li><li>Ferens Robert</li><li>Garncarek Paweł</li><li>Gawrychowski Paweł</li><li>Gańczorz Michał</li><li>Jeż Artur</li><li>Jurdziński Tomasz</li><li>Karpiński Michał</li><li>Kisielewicz Andrzej</li><li>Loryś Krzysztof</li><li>Nowicki Krzysztof</li><li>Różański Michał</li><li>Stachowiak Grzegorz</li><li>Szykuła Marek</li><li>Łopuszański Jakub</li><li>Żarczyński Łukasz</li></ul><h3>Zakład Teorii Informatyki i Baz Danych</h3><ul><li>Kieroński Emanuel</li><li>Marcinkowski Jerzy</li><li>Michaliszyn Jakub</li><li>Ostropolski-Nalewaja Piotr</li><li>Otop Jan</li><li>Wieczorek Piotr</li></ul>"
      ],
      "text/plain": [
       "<IPython.core.display.HTML object>"
      ]
     },
     "metadata": {},
     "output_type": "display_data"
    }
   ],
   "source": [
    "display(HTML(displ))"
   ]
  },
  {
   "cell_type": "code",
   "execution_count": 14,
   "metadata": {},
   "outputs": [],
   "source": [
    "SEC=ZIOB\n",
    "html = ''\n",
    "for SEC in group_map.keys():\n",
    "    html += '<h1>{}</h1>'.format(SEC)\n",
    "    html += '<ol>'\n",
    "    for pub in publications:\n",
    "        if len(group_map[SEC] & pub[0]) > 0:\n",
    "            html += '<li>{authors}, <em>{title}</em>, W: {source}'.format(\n",
    "                authors=pub[1],\n",
    "                title=pub[2],\n",
    "                source=pub[3]\n",
    "            )\n",
    "            if pub[4] is not None:\n",
    "                html += ' (<a href={url}>{url}</a>)'.format(url=pub[4])\n",
    "            html += '.'\n",
    "    html += '</ol>'"
   ]
  },
  {
   "cell_type": "code",
   "execution_count": 15,
   "metadata": {
    "collapsed": true
   },
   "outputs": [],
   "source": [
    "html = (html\n",
    "        .replace(\"~''a\", 'á')\n",
    "        .replace(\"~:u\", \"ü\")\n",
    "        .replace(\"U+0026amp;amp;\", \"and\"))"
   ]
  },
  {
   "cell_type": "code",
   "execution_count": 16,
   "metadata": {},
   "outputs": [
    {
     "data": {
      "text/html": [
       "<h1>Zakład Metod Numerycznych</h1><ol><li>A. Bartkowiak, R. Zimroz, <em>Complementary view on multivariate data structure based on Kohonen's SOM, parallel coordinates and t-SNE methods</em>, W: Advances in Condition Monitoring of Machinery in Non-Stationary Operations : Proceedings of the 5th International Conference on Condition Monitoring of Machinery in Non-stationary Operations, CMMNO-2016, 12-16 September 2016, Gliwice, Poland / Anna Timofiejczuk, Fakher Chaari, Radoslaw Zimroz, Walter Bartelmus, Mohamed Haddar (eds.). - Cham : Springer, 2018. - (Applied Condition Monitoring ; 9).- S. 255-265  (<a href=https://doi.org/10.1007/978-3-319-61927-9_24>https://doi.org/10.1007/978-3-319-61927-9_24</a>).<li>A. Bartkowiak, J. Liebhart, <em>Random forests supplemented by parallel fences plots: a study in spirometric diagnostics</em>, W: Colloquium Biometricum. - Vol. 48 (2018), s. 39-52 (<a href=http://collbiom.up.lublin.pl/pdf/cb48_39.pdf>http://collbiom.up.lublin.pl/pdf/cb48_39.pdf</a>).<li>R. Nowak, <em>Convergence acceleration of alternating series</em>, W: Numerical Algorithms. - 2018, s. 1-18 (<a href=https://doi.org/10.1007/s11075-018-0563-6>https://doi.org/10.1007/s11075-018-0563-6</a>).<li>P. Rajba, <em>Challenges and mitigation approaches for getting secured applications in an enterprise company</em>, W: Proceedings of the 13th International Conference on Availability, Reliability and Security, ARES 2018, Hamburg, Germany - August 27 - 30, 2018 / editors Mathias Fischer, Dominik Herrmann. - New York : Association for Computing Machinery (ACM), 2018. - Art. nr 7, s. 1-6 (<a href=https://doi.org/10.1145/3230833.3233276>https://doi.org/10.1145/3230833.3233276</a>).<li>W. Bożejko, P. Rajba, M. Wodecki, <em>Robustness of the uncertain single machine total weighted tardiness problem with elimination criteria applied</em>, W: Contemporary Complex Systems and Their Dependability : Proceedings Of The Thirteenth International Conference on Dependability and Complex Systems DepCoS-RELCOMEX. July 2 - 6, 2018, Brunów, Poland / editors: Wojciech Zamojski, Jacek Mazurkiewicz, Jarosław Sugier, Tomasz Walkowiak, Janusz Kacprzyk. - Cham : Springer, 2018. - S. 94-103 (<a href=https://doi.org/10.1007/978-3-319-91446-6_10>https://doi.org/10.1007/978-3-319-91446-6_10</a>).<li>W. Bożejko, P. Rajba, M. Wodecki, <em>Własności eliminacyjne dla pewnego probabilistycznego problemu szeregowania zadań</em>, W: Automatyzacja procesów dyskretnych : teoria i zastosowania. T.1 / pod redakcją Andrzeja Świerniaka i Jolanty Krystek. - Gliwice : Wydawnictwo Politechniki Śląskiej, 2018. - S. 15-24.<li>F. Chudy, P. Woźny, <em>Differential-recurrence properties of dual Bernstein polynomials</em>, W: Applied Mathematics and Computation. - Vol. 338 (2018), s. 537-543  (<a href=https://doi.org/10.1016/j.amc.2018.06.039>https://doi.org/10.1016/j.amc.2018.06.039</a>).</ol><h1>Zakład Języków Programowania</h1><ol><li>P. Wieczorek, D. Biernacki, <em>A Coq formalization of normalization by evaluation for Martin-Löf type theory</em>, W: Proceedings of the 7th ACM SIGPLAN International Conference on Certified Programs and Proofs - CPP 2018 / June Andronick, Amy Felty (eds.). - New York : ACM, 2018.- S. 266-279  (<a href=https://doi.org/10.1145/3167091>https://doi.org/10.1145/3167091</a>).<li>D. Biernacki, M. Piróg, P. Polesiuk, F. Sieczkowski, <em>Handle with care : relational interpretation of algebraic effects and handlers</em>, W: Proceedings of the ACM on Programming Languages. - Vol. 2, Iss. POPL (2018), s. 8-1-8-30  (<a href=https://doi.org/10.1145/3158096>https://doi.org/10.1145/3158096</a>).<li>D. Biernacki, P. Polesiuk, <em>Logical relations for coherence of effect subtyping</em>, W: Logical Methods in Computer Science. - Vol. 14, iss. 1 (2018), s. 1-28  (<a href=https://doi.org/10.23638/LMCS-14(1:11)2018>https://doi.org/10.23638/LMCS-14(1:11)2018</a>).<li>D. Biernacki, S. Lenglet, P. Polesiuk, <em>Proving soundness of extensional normal : form bisimilarities</em>, W: Electronic Notes in Theoretical Computer Science. - Vol. 336 (2018), s. 41-56  (<a href=https://doi.org/10.1016/j.entcs.2018.03.015>https://doi.org/10.1016/j.entcs.2018.03.015</a>).<li>B. Bednarczyk, W. Charatonik, <em>Modulo counting on words and trees</em>, W: 37th IARCS Annual Conference on Foundations of Software Technology and Theoretical Computer Science (FSTTCS 2017) / Satya Lokam and R. Ramanujam (eds.). - Wadern : Schloss Dagstuhl - Leibniz-Zentrum für Informatik, 2018. - (LIPIcs - Leibniz International Proceedings in Informatics ; 93).- S. 12-1-12-16  (<a href=https://doi.org/10.4230/LIPIcs.FSTTCS.2017.12>https://doi.org/10.4230/LIPIcs.FSTTCS.2017.12</a>).<li>W. Charatonik, Y. Guskov, I. Pratt-Hartmann, P. Witkowski, <em>Two-variable first-order logic with counting in forests</em>, W: LPAR-22. 22nd International Conference on Logic for Programming, Artificial Intelligence and Reasoning / Editors Gilles Barthe, Geoff Sutcliffe, Margus Veanes. - [Manchester] : EasyChair Publications, 2018. - (EPiC Series in Computing ; 57). - S. 214-232 (<a href=https://doi.org/10.29007/24fm>https://doi.org/10.29007/24fm</a>).<li>J. Michaliszyn, J. Otop, P. Witkowski, <em>Satisfiability versus finite satisfiability in elementary modal logics</em>, W: Fundamenta Informaticae. - Vol. 163, iss. 2 (2018), s. 165-188 (<a href=https://doi.org/10.3233/FI-2018-1736>https://doi.org/10.3233/FI-2018-1736</a>).<li>M. Piróg, T. Schrijvers, N. Wu, M. Jaskelioff, <em>Syntax and semantics for operations with scopes</em>, W: Proceedings of the 33rd Annual ACM/IEEE Symposium on Logic in Computer Science - LICS '18. - New York : ACM, 2018. - S. 809-818 (<a href=https://doi.org/10.1145/3209108.3209166>https://doi.org/10.1145/3209108.3209166</a>).</ol><h1>Zakład Optymalizacji Kombinatorycznej</h1><ol><li>M. Bieńkowski, A. Kraska, P. Schmidt, <em>A match in time saves nine: deterministic online matching with delays</em>, W: Approximation and Online Algorithms : 15th International Workshop, WAOA 2017, Vienna, Austria, September 7-8, 2017, Revised Selected Papers / Editors: Roberto Solis-Oba, Rudolf Fleischer. - Cham : Springer, 2018. - (LNCS ; 10787). - S. 132-146 (<a href=https://doi.org/10.1007/978-3-319-89441-6_11>https://doi.org/10.1007/978-3-319-89441-6_11</a>).<li>M. Bieńkowski, A. Kraska, H. Liu, P. Schmidt, <em>A primal-dual online deterministic algorithm for matching with delays</em>, W: Approximation and Online Algorithms : 16th International Workshop, WAOA 2018, Helsinki, Finland, August 23-24, 2018, Revised Selected Papers / Editors Leah Epstein, Thomas Erlebach. - Cham : Springer, 2018. - (LNCS : 11312). - S. 51-68 (<a href=https://doi.org/10.1007/978-3-030-04693-4_4>https://doi.org/10.1007/978-3-030-04693-4_4</a>).<li>M. Bieńkowski, T. Jurdziński, M. Korzeniowski, D. Kowalski, <em>Distributed online and stochastic queueing on a multiple access channel</em>, W: ACM Transactions on Algorithms. - Vol. 14, nr 2 (2018), s. 21:1-21:22 (<a href=https://doi.org/10.1145/3182396>https://doi.org/10.1145/3182396</a>).<li>M. Bienkowski, M. Böhm, Ł. Jeż, P. Laskoś-Grabowski, J. Marcinkowski, J. Sgall, A. Spyra, P. Veselý, <em>Logarithmic price of buffer downscaling on line metrics</em>, W: Theoretical Computer Science . - Vol. 707 (2018), s. 89-93 : rys. (<a href=https://doi.org/10.1016/j.tcs.2017.10.008>https://doi.org/10.1016/j.tcs.2017.10.008</a>).<li>M. Bieńkowski, N. Sarrar, S. Schmid, S. Uhlig, <em>Online aggregation of the forwarding information base : accounting for locality and churn</em>, W: IEEE/ACM Transactions on Networking. - Vol. 26, Iss.1 (2018), s. 591-604  (<a href=https://doi.org/10.1109/TNET.2017.2787419>https://doi.org/10.1109/TNET.2017.2787419</a>).<li>M. Bieńkowski, A. Kraska, P. Schmidt, <em>Online service with delay on a line</em>, W: Structural Information and Communication Complexity : 25th International Colloquium, SIROCCO 2018, Ma'ale HaHamisha, Israel, June 18-21, 2018, Revised Selected Papers / Editors Zvi Lotker, Boaz Patt-Shamir. - Cham : Springer, 2018. - S. 237-248 (<a href=https://doi.org/10.1007/978-3-030-01325-7_22>https://doi.org/10.1007/978-3-030-01325-7_22</a>).<li>J. Byrka, T. Pensyl, B. Rybicki, J. Spoerhase, A. Srinivasan, K. Trinh, <em>An improved approximation algorithm for knapsack median using sparsification</em>, W: Algorithmica. - Vol. 80, iss. 4 (2018), s. 1093-1114 (<a href=https://doi.org/10.1007/s00453-017-0294-4>https://doi.org/10.1007/s00453-017-0294-4</a>).<li>J. Byrka, M. Lewandowski, J. Spoerhase, <em>Approximating node-weighted k-MST on planar graphs</em>, W: Approximation and Online Algorithms : 16th International Workshop, WAOA 2018, Helsinki, Finland, August 23-24, 2018, Revised Selected Papers / Editors Leah Epstein, Thomas Erlebach. - Cham : Springer, 2018. - (LNCS : 11312). - S. 87-101 (<a href=https://doi.org/10.1007/978-3-030-04693-4_6>https://doi.org/10.1007/978-3-030-04693-4_6</a>).<li>J. Byrka, A. Srinivasan, <em>Approximation algorithms for stochastic and risk-averse optimization</em>, W: SIAM Journal on Discrete Mathematics. - Vol. 32, iss. 1 (2018), s. 44-63 (<a href=https://doi.org/10.1137/15M1043790>https://doi.org/10.1137/15M1043790</a>).<li>J. Byrka, K. Sornat, J. Spoerhase, <em>Constant-factor approximation for ordered k-median</em>, W: STOC'18 : Proceedings of the 50th Annual ACM SIGACT Symposium on Theory of Computing : June 25-29, 2018, Los Angeles, CA, USA / editors: Ilias Diakonikolas, David Kempe, Monika Henzinger. - New York : ACM, 2018. - S. 620-631 (<a href=https://doi.org/10.1145/3188745.3188930>https://doi.org/10.1145/3188745.3188930</a>).<li>J. Byrka, P. Skowron, K. Sornat, <em>Proportional approval voting, harmonic k-median, and negative association</em>, W: 45th International Colloquium on Automata, Languages, and Programming (ICALP 2018) / editors: Ioanis Chatzigiannakis, Christos Kaklamanis, Dániel Marx, Donald T Sannella. - Wadern : Schloss Dagstuhl - Leibniz-Zentrum für Informatik, 2018. - S. 26:1-26:14 (<a href=https://doi.org/10.4230/LIPIcs.ICALP.2018.26>https://doi.org/10.4230/LIPIcs.ICALP.2018.26</a>).<li>S. Amiri, S. Dudycz, S. Schmid, S. Wiederrecht, <em>Congestion-free rerouting of flows on DAGs</em>, W: 45th International Colloquium on Automata, Languages, and Programming (ICALP 2018) / Editors Ioanis Chatzigiannakis, Christos Kaklamanis, Dániel Marx, Donald T Sannella. - Wadern : Schloss Dagstuhl - Leibniz-Zentrum für Informatik, 2018. - (LIPIcs ; 107). - S. 143:1-143:13 (<a href=https://doi.org/10.4230/LIPIcs.ICALP.2018.143>https://doi.org/10.4230/LIPIcs.ICALP.2018.143</a>).<li>A. Basta, A. Blenk, S. Dudycz, A. Ludwig, S. Schmid, <em>Efficient loop-free rerouting of multiple SDN flows</em>, W: IEEE-ACM Transactions on Networking. - Vol. 26, iss. 2 (2018), s. 948-961 (<a href=https://doi.org/10.1109/TNET.2018.2810640>https://doi.org/10.1109/TNET.2018.2810640</a>).<li>A. Ludwig, S. Dudycz, M. Rost, S. Schmid, <em>Transiently policy-compliant network updates</em>, W: IEEE-ACM Transactions on Networking. - Vol. 26, iss. 6 (2018), s. 2569 - 2582 (<a href=https://doi.org/10.1109/TNET.2018.2871023>https://doi.org/10.1109/TNET.2018.2871023</a>).<li>J. Kowalski, R. Miernik, P. Pytlik, M. Pawlikowski, K. Piecuch, J. Sękowski, <em>Strategic features and terrain generation for balanced Heroes of Might and Magic III Maps</em>, W: CIG 2018 : proceedings of the 2018 IEEE Conference on Computational Intelligence and Games (CIG'18) : Department of Data Science and Knowledge Engineering, Maastricht University, Maastricht, The Netherlands, 14-17 August, 2018 / editor Mark H.M. Winands. - Piscataway : IEEE, 2018. - S. 86-93 (<a href=https://doi.org/10.1109/CIG.2018.8490430>https://doi.org/10.1109/CIG.2018.8490430</a>).<li>A. Kunysz, <em>An algorithm for the maximum weight strongly stable matching problem</em>, W: 29th International Symposium on Algorithms and Computation (ISAAC 2018) / Editors Wen-Lian Hsu, Der-Tsai Lee, Chung-Shou Liao. - Wadern : Schloss Dagstuhl - Leibniz-Zentrum für Informatik, 2018. - (LIPIcs : 123). - S. 42:1-42:13 (<a href=https://doi.org/10.4230/LIPIcs.ISAAC.2018.42>https://doi.org/10.4230/LIPIcs.ISAAC.2018.42</a>).<li>K. Foerster, A. Ludwig, J. Marcinkowski, S. Schmid, <em>Loop-free route updates for software-defined networks</em>, W: IEEE/ACM Transactions on Networking. - Vol. 26, iss. 1 (2018), s. 328-341 (<a href=https://doi.org/10.1109/TNET.2017.2778426>https://doi.org/10.1109/TNET.2017.2778426</a>).<li>P. Ghosal, K. Paluch, <em>Manipulation strategies for the rank-maximal matching problem</em>, W: Computing and Combinatorics : 24th International Conference, COCOON 2018, Qing Dao, China, July 2-4, 2018. Proceedings / Editors Lusheng Wang, Daming Zhu. - Cham : Springer, 2018. - S. 316-327 (<a href=https://doi.org/10.1007/978-3-319-94776-1_27>https://doi.org/10.1007/978-3-319-94776-1_27</a>).<li>A. Adamaszek, M. Mnich, K. Paluch, <em>New approximation algorithms for (1,2)-TSP</em>, W: 45th International Colloquium on Automata, Languages, and Programming (ICALP 2018) / Editors Ioanis Chatzigiannakis, Christos Kaklamanis, Dániel Marx, Donald T. Sannella. - Wadern : Schloss Dagstuhl - Leibniz-Zentrum für Informatik, 2018. - (LIPIcs ; 107). - S. 9:1-9:14 (<a href=https://doi.org/10.4230/LIPIcs.ICALP.2018.9>https://doi.org/10.4230/LIPIcs.ICALP.2018.9</a>).<li>S. Dudycz, K. Paluch, <em>Optimal general matchings</em>, W: Graph-Theoretic Concepts in Computer Science : 44th International Workshop, WG 2018, Cottbus, Germany, June 27-29, 2018 : proceedings / editors Andreas Brandstädt, Ekkehard Köhler, Klaus Meer. - Cham : Springer, 2018. - (LNCS ; 11159). - S. 176-189 (<a href=https://doi.org/10.1007/978-3-030-00256-5_15>https://doi.org/10.1007/978-3-030-00256-5_15</a>).<li>M. Karpiński, K. Piecuch, <em>On vertex coloring without monochromatic triangles</em>, W: Computer Science - Theory and Applications : 13th International Computer Science Symposium in Russia, CSR 2018, Moscow, Russia, June 6-10, 2018 : Proceedings / Fedor V. Fomin, Vladimir V. Podolskii (eds.). - Cham : Springer International Publishing , 2018. - (Lecture Notes in Computer Science ; 10846). - S. 220-231. - Bibliogr. - Streszcz. w jęz. ang. (<a href=https://doi.org/10.1007/978-3-319-90530-3_19>https://doi.org/10.1007/978-3-319-90530-3_19</a>).<li>M. Cygan, Ł. Kowalik, A. Socała, K. Sornat, <em>Approximation and parameterized complexity of minimax approval voting</em>, W: Journal of Artificial Intelligence Research. - Vol. 63 (2018), s. 495-513 (<a href=https://doi.org/10.1613/jair.1.11253>https://doi.org/10.1613/jair.1.11253</a>).</ol><h1>Zakład Inteligencji Obliczeniowej</h1><ol><li>J. Chorowski, A. Łańcucki, S. Malik, M. Pawlikowski, P. Rychlikowski, P. Zykowski, <em>A Talker Ensemble: The University of Wroclaw's entry to the NIPS 2017 Conversational Intelligence Challenge</em>, W: The NIPS '17 Competition: Building Intelligent Systems / Editors Sergio Escalera, Markus Weimer. - Cham : Springer, 2018. - (The Springer Series on Challenges in Machine Learning). - S. 59-77.<li>S. Malik, A. Łańcucki, J. Chorowski, <em>Efficient purely convolutional text encoding</em>, W: CEUR Workshop Proceedings. - Vol. 2202 (2018), s. 14-23 (<a href=http://ceur-ws.org/Vol-2202/paper3.pdf>http://ceur-ws.org/Vol-2202/paper3.pdf</a>).<li>J. Chorowski, R. Weiss, R. Saurous, S. Bengio, <em>On using backpropagation for speech texture generation and voice conversion</em>, W: 2018 IEEE International Conference on Acoustics, Speech, and Signal Processing : proceedings : April 15-20, 2018, Calgary Telus Convention Center, Calgary, Alberta, Canada / Editors Monson Hayes, Hanseok Ko. - Piscataway, NJ : IEEE, 2018. - S. 2256-2260 (<a href=https://doi.org/10.1109/ICASSP.2018.8461282>https://doi.org/10.1109/ICASSP.2018.8461282</a>).<li>C. Siwek, J. Kowalski, C. Sironi, M. Winands, <em>Implementing propositional networks on FPGA</em>, W: AI 2018: advances in artificial intelligence : 31st Australasian joint conference, Wellington, New Zealand, December 11-14, 2018 : proceedings / Editors Tanja Mitrovic, Bing Xue, Xiaodong Li. - Cham : Springer, 2018. - (Lecture Notes in Artificial Intelligence ; 11320). - S. 133-145 (<a href=https://doi.org/10.1007/978-3-030-03991-2_14>https://doi.org/10.1007/978-3-030-03991-2_14</a>).<li>J. Kowalski, A. Liapis, Ł. Żarczyński, <em>Mapping chess aesthetics onto procedurally generated chess-like games</em>, W: Applications of Evolutionary Computation : 21st International Conference, EvoApplications 2018, Parma, Italy, April 4-6, 2018, Proceedings / Kevin Sim, Paul Kaufmann (eds.). - Cham : Springer, 2018. - (Lecture Notes in Computer Science ; 10784).- S. 325-341  (<a href=https://doi.org/10.1007/978-3-319-77538-8_23>https://doi.org/10.1007/978-3-319-77538-8_23</a>).<li>J. Kowalski, A. Kisielewicz, <em>Regular language inference for learning rules of simplified boardgames</em>, W: CIG 2018 : proceedings of the 2018 IEEE Conference on Computational Intelligence and Games (CIG'18) : Department of Data Science and Knowledge Engineering, Maastricht University, Maastricht, The Netherlands, 14-17 August, 2018 / editor Mark H.M. Winands. - Piscataway : IEEE, 2018. - S. 78-85 (<a href=https://doi.org/10.1109/CIG.2018.8490435>https://doi.org/10.1109/CIG.2018.8490435</a>).<li>J. Kowalski, R. Miernik, P. Pytlik, M. Pawlikowski, K. Piecuch, J. Sękowski, <em>Strategic features and terrain generation for balanced Heroes of Might and Magic III Maps</em>, W: CIG 2018 : proceedings of the 2018 IEEE Conference on Computational Intelligence and Games (CIG'18) : Department of Data Science and Knowledge Engineering, Maastricht University, Maastricht, The Netherlands, 14-17 August, 2018 / editor Mark H.M. Winands. - Piscataway : IEEE, 2018. - S. 86-93 (<a href=https://doi.org/10.1109/CIG.2018.8490430>https://doi.org/10.1109/CIG.2018.8490430</a>).<li>P. Wnuk-Lipiński, K. Michalak, <em>An evolutionary algorithm with practitioner's-knowledge-based operators for the inventory routing problem</em>, W: Evolutionary Computation in Combinatorial Optimization : 18th European Conference, EvoCOP 2018, Parma, Italy, April 4-6, 2018, Proceedings / Arnaud Liefooghe, Manuel López-Ibáñez (eds.). - Cham : Springer, 2018. - (Lecture Notes in Computer Science ; 10782).- S. 146-157  (<a href=https://doi.org/10.1007/978-3-319-77449-7_10>https://doi.org/10.1007/978-3-319-77449-7_10</a>).</ol><h1>STUDENT</h1><ol><li>M. Bienkowski, M. Böhm, Ł. Jeż, P. Laskoś-Grabowski, J. Marcinkowski, J. Sgall, A. Spyra, P. Veselý, <em>Logarithmic price of buffer downscaling on line metrics</em>, W: Theoretical Computer Science . - Vol. 707 (2018), s. 89-93 : rys. (<a href=https://doi.org/10.1016/j.tcs.2017.10.008>https://doi.org/10.1016/j.tcs.2017.10.008</a>).<li>J. Chorowski, A. Łańcucki, S. Malik, M. Pawlikowski, P. Rychlikowski, P. Zykowski, <em>A Talker Ensemble: The University of Wroclaw's entry to the NIPS 2017 Conversational Intelligence Challenge</em>, W: The NIPS '17 Competition: Building Intelligent Systems / Editors Sergio Escalera, Markus Weimer. - Cham : Springer, 2018. - (The Springer Series on Challenges in Machine Learning). - S. 59-77.<li>S. Malik, A. Łańcucki, J. Chorowski, <em>Efficient purely convolutional text encoding</em>, W: CEUR Workshop Proceedings. - Vol. 2202 (2018), s. 14-23 (<a href=http://ceur-ws.org/Vol-2202/paper3.pdf>http://ceur-ws.org/Vol-2202/paper3.pdf</a>).<li>W. Derkowski, A. Kędzia, P. Derkowski, <em>Poszukiwanie oscylacji gamma w EEG czyli jak powstają wyładowania padaczkowe</em>, W: IX Sympozjum \"Współczesna Myśl Techniczna w Naukach Medycznych i Biologicznych\", Wrocław, 22-23 czerwca 2018 r. : materiały konferencyjne / przygotowanie materiałów do druku: Karolina Czubak. - Wrocław : Oddział Polskiej Akademii Nauk we Wrocławiu, 2018. - S. 19-20.<li>D. Danielski, E. Kieroński, <em>Unary negation fragment with equivalence relations has the finite model property</em>, W: Proceedings of the 33rd Annual ACM/IEEE Symposium on Logic in Computer Science - LICS '18. - New York : ACM, 2018.- S. 285-294  (<a href=https://doi.org/10.1145/3209108.3209205>https://doi.org/10.1145/3209108.3209205</a>).<li>C. Siwek, J. Kowalski, C. Sironi, M. Winands, <em>Implementing propositional networks on FPGA</em>, W: AI 2018: advances in artificial intelligence : 31st Australasian joint conference, Wellington, New Zealand, December 11-14, 2018 : proceedings / Editors Tanja Mitrovic, Bing Xue, Xiaodong Li. - Cham : Springer, 2018. - (Lecture Notes in Artificial Intelligence ; 11320). - S. 133-145 (<a href=https://doi.org/10.1007/978-3-030-03991-2_14>https://doi.org/10.1007/978-3-030-03991-2_14</a>).<li>J. Kowalski, R. Miernik, P. Pytlik, M. Pawlikowski, K. Piecuch, J. Sękowski, <em>Strategic features and terrain generation for balanced Heroes of Might and Magic III Maps</em>, W: CIG 2018 : proceedings of the 2018 IEEE Conference on Computational Intelligence and Games (CIG'18) : Department of Data Science and Knowledge Engineering, Maastricht University, Maastricht, The Netherlands, 14-17 August, 2018 / editor Mark H.M. Winands. - Piscataway : IEEE, 2018. - S. 86-93 (<a href=https://doi.org/10.1109/CIG.2018.8490430>https://doi.org/10.1109/CIG.2018.8490430</a>).<li>G. Głuch, J. Marcinkowski, P. Ostropolski-Nalewaja, <em>Can one escape Red Chains?: regular path queries determinacy is undecidable</em>, W: Proceedings of the 33rd Annual ACM/IEEE Symposium on Logic in Computer Science - LICS '18. - New York : ACM, 2018. - S. 492-501 (<a href=https://doi.org/10.1145/3209108.3209120>https://doi.org/10.1145/3209108.3209120</a>).</ol><h1>Zakład Złożoności Obliczeniowej i Algorytmów</h1><ol><li>M. Bieńkowski, T. Jurdziński, M. Korzeniowski, D. Kowalski, <em>Distributed online and stochastic queueing on a multiple access channel</em>, W: ACM Transactions on Algorithms. - Vol. 14, nr 2 (2018), s. 21:1-21:22 (<a href=https://doi.org/10.1145/3182396>https://doi.org/10.1145/3182396</a>).<li>B. Dudek, A. Kosowski, <em>Universal protocols for information dissemination using emergent signals</em>, W: STOC'18 : Proceedings of the 50th Annual ACM SIGACT Symposium on Theory of Computing : June 25-29, 2018, Los Angeles, CA, USA / Editors Ilias Diakonikolas, David Kempe, Monika Henzinger. - New York : ACM, 2018. - S. 87-99 (<a href=https://doi.org/10.1145/3188745.3188818>https://doi.org/10.1145/3188745.3188818</a>).<li>P. Gawrychowski, G. Landau, W. Sung, O. Weimann, <em>A faster construction of greedy consensus trees</em>, W: 45th International Colloquium on Automata, Languages, and Programming (ICALP 2018) / Editors Ioanis Chatzigiannakis, Christos Kaklamanis, Dániel Marx, Donald T Sannella. - Wadern : Schloss Dagstuhl - Leibniz-Zentrum für Informatik, 2018. - (LIPIcs ; 107). - S. 63:1-63:14 (<a href=https://doi.org/10.4230/LIPIcs.ICALP.2018.63>https://doi.org/10.4230/LIPIcs.ICALP.2018.63</a>).<li>P. Gawrychowski, L. Markin, O. Weimann, <em>A faster FPTAS for #knapsack</em>, W: 45th International Colloquium on Automata, Languages, and Programming (ICALP 2018) / Editors Ioanis Chatzigiannakis, Christos Kaklamanis, Dániel Marx, Donald T. Sannella. - Wadern : Schloss Dagstuhl - Leibniz-Zentrum für Informatik, 2018. - (LIPIcs ; 107). - S. 64:1-64:13 (<a href=https://doi.org/10.4230/LIPIcs.ICALP.2018.64>https://doi.org/10.4230/LIPIcs.ICALP.2018.64</a>).<li>B. Dudek, P. Gawrychowski, <em>Edit distance between unrooted trees in cubic time</em>, W: 45th International Colloquium on Automata, Languages, and Programming (ICALP 2018) / Editors Ioanis Chatzigiannakis, Christos Kaklamanis, Dániel Marx, Donald T. Sannella. - Wadern : Schloss Dagstuhl - Leibniz-Zentrum für Informatik, 2018. - (LIPIcs ; 107). - S. 45:1-45:14 (<a href=https://doi.org/10.4230/LIPIcs.ICALP.2018.45>https://doi.org/10.4230/LIPIcs.ICALP.2018.45</a>).<li>M. Gańczorz, P. Gawrychowski, A. Jeż, T. Kociumaka, <em>Edit distance with block operations</em>, W: 26th Annual European Symposium on Algorithms (ESA 2018) / pod redakcją Yossi Azar, Hannah Bast, Grzegorz Herman. - Wadern : Schloss Dagstuhl - Leibniz-Zentrum für Informatik, 2018. - (LIPIcs ; 112). - S. 33:1-33:14 (<a href=https://doi.org/10.4230/LIPIcs.ESA.2018.33>https://doi.org/10.4230/LIPIcs.ESA.2018.33</a>).<li>M. Gańczorz, P. Gawrychowski, A. Jeż, T. Kociumaka, <em>Edit distance with block operations</em>, W: 26th Annual European Symposium on Algorithms (ESA 2018) / Editors Yossi Azar, Hannah Bast, Grzegorz Herman. - Wadern : Schloss Dagstuhl - Leibniz-Zentrum für Informatik, 2018. - (LIPIcs ; 112). - S. 33:1-33:14 (<a href=https://doi.org/10.4230/LIPIcs.ESA.2018.33>https://doi.org/10.4230/LIPIcs.ESA.2018.33</a>).<li>P. Gawrychowski, G. Landau, T. Starikovskaya, <em>Fast entropy-bounded string dictionary look-up with mismatches</em>, W: 43rd International Symposium on Mathematical Foundations of Computer Science (MFCS 2018) / Editors Igor Potapov, Paul Spirakis, James Worrell. - Wadern : Schloss Dagstuhl - Leibniz-Zentrum für Informatik, 2018. - (LIPIcs : 117). - S. 66:1-66:15 (<a href=https://doi.org/10.4230/LIPIcs.MFCS.2018.66>https://doi.org/10.4230/LIPIcs.MFCS.2018.66</a>).<li>P. Gawrychowski, A. Karczmarz, <em>Improved bounds for shortest paths in dense distance graphs</em>, W: 45th International Colloquium on Automata, Languages, and Programming (ICALP 2018) / Editors Ioanis Chatzigiannakis, Christos Kaklamanis, Dániel Marx, Donald T. Sannella. - Wadern : Schloss Dagstuhl - Leibniz-Zentrum für Informatik, 2018. - (LIPIcs ; 107). - S. 61:1-61:15 (<a href=https://doi.org/10.4230/LIPIcs.ICALP.2018.61>https://doi.org/10.4230/LIPIcs.ICALP.2018.61</a>).<li>P. Gawrychowski, F. Kuhn, J. Łopuszański, K. Panagiotou, P. Su, <em>Labeling schemes for nearest common ancestors through minor-universal trees</em>, W: Proceedings of the Twenty-Ninth Annual ACM-SIAM Symposium on Discrete Algorithms, SODA 2018, New Orleans, LA, USA, January 7-10, 2018 / Artur Czumaj (ed.). - Philadelphia : Society for Industrial and Applied Mathematics, 2018. - (Proceedings).- S. 2604-2619  (<a href=https://doi.org/10.1137/1.9781611975031.166>https://doi.org/10.1137/1.9781611975031.166</a>).<li>H. Chang, P. Gawrychowski, S. Mozes, O. Weimann, <em>Near-optimal distance emulator for planar graphs</em>, W: 26th Annual European Symposium on Algorithms (ESA 2018) / Editors Yossi Azar, Hannah Bast, Grzegorz Herman. - Wadern : Schloss Dagstuhl - Leibniz-Zentrum für Informatik, 2018. - (LIPIcs : 112). - S. 16:1-16:17 (<a href=https://doi.org/10.4230/LIPIcs.ESA.2018.16>https://doi.org/10.4230/LIPIcs.ESA.2018.16</a>).<li>P. Gawrychowski, A. Karczmarz, T. Kociumaka, J. Łącki, P. Sankowski, <em>Optimal dynamic strings</em>, W: Proceedings of the Twenty-Ninth Annual ACM-SIAM Symposium on Discrete Algorithms, SODA 2018, New Orleans, LA, USA, January 7-10, 2018 / Artur Czumaj (ed.). - Philadelphia : Society for Industrial and Applied Mathematics, 2018. - (Proceedings).- S. 1509-1528  (<a href=https://doi.org/10.1137/1.9781611975031.99>https://doi.org/10.1137/1.9781611975031.99</a>).<li>B. Dudek, P. Gawrychowski, <em>Slowing down top trees for better worst-case compression</em>, W: 29th Annual Symposium on Combinatorial Pattern Matching : CPM 2018, July 2-4, 2018, Qingdao, China / Editors Gonzalo Navarro, David Sankoff, Binhai Zhu. - Wadern : Schloss Dagstuhl - Leibniz-Zentrum für Informatik, 2018. - (LIPIcs ; 105). - S. 16:1-16:8 (<a href=https://doi.org/10.4230/LIPIcs.CPM.2018.16>https://doi.org/10.4230/LIPIcs.CPM.2018.16</a>).<li>P. Gawrychowski, P. Uznański, <em>Towards unified approximate pattern matching for hamming and L1 Distance</em>, W: 45th International Colloquium on Automata, Languages, and Programming (ICALP 2018) / Editors Ioanis Chatzigiannakis, Christos Kaklamanis, Dániel Marx, Donald T. Sannella. - Wadern : Schloss Dagstuhl - Leibniz-Zentrum für Informatik, 2018. - (LIPIcs ; 107). - S. 62:1-62:13 (<a href=https://doi.org/10.4230/LIPIcs.ICALP.2018.62>https://doi.org/10.4230/LIPIcs.ICALP.2018.62</a>).<li>A. Jeż, A. Okhotin, <em>On the number of nonterminal symbols in unambiguous conjunctive grammars</em>, W: Fundamenta Informaticae. - Vol. 162, nr 1 (2018), s. 43-72 (<a href=https://doi.org/10.3233/FI-2018-1713>https://doi.org/10.3233/FI-2018-1713</a>).<li>M. Ganardi, A. Jeż, M. Lohrey, <em>Sliding windows over context-free languages</em>, W: 43rd International Symposium on Mathematical Foundations of Computer Science (MFCS 2018) / editors: Igor Potapov, Paul Spirakis, James Worrell. - Wadern : Schloss Dagstuhl - Leibniz-Zentrum für Informatik, 2018. - (LIPIcs ; 117). - S. 15:1-15:15 (<a href=https://doi.org/10.4230/LIPIcs.MFCS.2018.15>https://doi.org/10.4230/LIPIcs.MFCS.2018.15</a>).<li>T. Jurdziński, K. Nowicki, <em>MST in O(1) rounds of congested clique</em>, W: Proceedings of the Twenty-Ninth Annual ACM-SIAM Symposium on Discrete Algorithms, SODA 2018, New Orleans, LA, USA, January 7-10, 2018 / Artur Czumaj (ed.). - Philadelphia : Society for Industrial and Applied Mathematics, 2018. - (Proceedings). - S. 2620-2632. - Bibliogr. - Streszcz. w jęz. ang. (<a href=https://doi.org/10.1137/1.9781611975031.167>https://doi.org/10.1137/1.9781611975031.167</a>).<li>T. Jurdziński, K. Nowicki, <em>On range and edge capacity in the congested clique</em>, W: SOFSEM 2018: Theory and Practice of Computer Science : 44th International Conference on Current Trends in Theory and Practice of Computer Science, Krems, Austria, January 29 - February 2, 2018, Proceedings / A. Min Tjoa, Ladjel Bellatreche, Stefan Biffl, Jan van Leeuwen, Jiří Wiedermann (eds.). - Cham : Springer International Publishing - Edizioni della Normale, 2018. - (Lecture Notes in Computer Science ; 10706). - S. 305-318. - Bibliogr. - Streszcz. w jęz. ang. (<a href=https://doi.org/10.1007/978-3-319-73117-9_22>https://doi.org/10.1007/978-3-319-73117-9_22</a>).<li>H. Chuangpishit, J. Czyzowicz, L. Gąsieniec, K. Georgiou, T. Jurdziński, E. Kranakis, <em>Patrolling a path connecting a set of points with unbalanced frequencies of visits</em>, W: SOFSEM 2018: Theory and Practice of Computer Science : 44th International Conference on Current Trends in Theory and Practice of Computer Science, Krems, Austria, January 29 - February 2, 2018, Proceedings / A Min Tjoa, Ladjel Bellatreche, Stefan Biffl, Jan van Leeuwen, Jiří Wiedermann (eds.). - Cham : Springer International Publishing - Edizioni della Normale, 2018. - (Lecture Notes in Computer Science ; 10706). - S. 367-380. - Bibliogr. - Streszcz. w jęz. ang. (<a href=https://doi.org/10.1007/978-3-319-73117-9_26>https://doi.org/10.1007/978-3-319-73117-9_26</a>).<li>T. Jurdziński, K. Loryś, K. Nowicki, <em>Communication complexity in vertex partition whiteboard model</em>, W: Structural Information and Communication Complexity : 25th International Colloquium, SIROCCO 2018, Ma'ale HaHamisha, Israel, June 18-21, 2018, Revised Selected Papers / Editors Zvi Lotker, Boaz Patt-Shamir. - Cham : Springer, 2018. - S. 264-279 (<a href=https://doi.org/10.1007/978-3-030-01325-7_24>https://doi.org/10.1007/978-3-030-01325-7_24</a>).<li>T. Jurdziński, K. Nowicki, <em>Connectivity and minimum cut approximation in the broadcast congested clique</em>, W: Structural Information and Communication Complexity : 25th International Colloquium, SIROCCO 2018, Ma'ale HaHamisha, Israel, June 18-21, 2018, Revised Selected Papers / Editors Zvi Lotker, Boaz Patt-Shamir. - Cham : Springer, 2018. - S. 331-344 (<a href=https://doi.org/10.1007/978-3-030-01325-7_28>https://doi.org/10.1007/978-3-030-01325-7_28</a>).<li>T. Jurdziński, D. Kowalski, M. Różański, G. Stachowiak, <em>Deterministic digital clustering of wireless Ad Hoc networks</em>, W: PODC'18 : proceedings of the 2018 ACM Symposium on Principles of Distributed Computing : July 23-27, 2018, Egham, United Kingdom / Editors Calvin Newport, Idit Keidar. - New York : ACM, 2018. - S. 105-114 (<a href=https://doi.org/10.1145/3212734.3212752>https://doi.org/10.1145/3212734.3212752</a>).<li>P. Garncarek, T. Jurdziński, D. Kowalski, <em>Local queuing under contention</em>, W: 32nd International Symposium on Distributed Computing (DISC 2018) / editors Ulrich Schmid, Josef Widder. - Wadern : Schloss Dagstuhl - Leibniz-Zentrum für Informatik, 2018. - (LIPICS ; 121). - S. 28:1-28:18 (<a href=https://doi.org/10.4230/LIPIcs.DISC.2018.28>https://doi.org/10.4230/LIPIcs.DISC.2018.28</a>).<li>M. Karpiński, <em>Encoding cardinality constraints using standard encoding of generalized selection networks preserves arc-consistency</em>, W: Theoretical Computer Science. - Vol. 707 (2018), s. 77-81  (<a href=https://doi.org/10.1016/j.tcs.2017.09.036>https://doi.org/10.1016/j.tcs.2017.09.036</a>).<li>J. Kowalski, A. Liapis, Ł. Żarczyński, <em>Mapping chess aesthetics onto procedurally generated chess-like games</em>, W: Applications of Evolutionary Computation : 21st International Conference, EvoApplications 2018, Parma, Italy, April 4-6, 2018, Proceedings / Kevin Sim, Paul Kaufmann (eds.). - Cham : Springer, 2018. - (Lecture Notes in Computer Science ; 10784).- S. 325-341  (<a href=https://doi.org/10.1007/978-3-319-77538-8_23>https://doi.org/10.1007/978-3-319-77538-8_23</a>).<li>J. Kowalski, A. Kisielewicz, <em>Regular language inference for learning rules of simplified boardgames</em>, W: CIG 2018 : proceedings of the 2018 IEEE Conference on Computational Intelligence and Games (CIG'18) : Department of Data Science and Knowledge Engineering, Maastricht University, Maastricht, The Netherlands, 14-17 August, 2018 / editor Mark H.M. Winands. - Piscataway : IEEE, 2018. - S. 78-85 (<a href=https://doi.org/10.1109/CIG.2018.8490435>https://doi.org/10.1109/CIG.2018.8490435</a>).<li>M. Ghaffari, K. Nowicki, <em>Congested clique algorithms for the minimum cut problem</em>, W: PODC'18 : proceedings of the 2018 ACM Symposium on Principles of Distributed Computing : July 23-27, 2018, Egham, United Kingdom / Editors Calvin Newport, Idit Keidar. - New York : ACM, 2018. - S. 357-366 (<a href=https://doi.org/10.1145/3212734.3212750>https://doi.org/10.1145/3212734.3212750</a>).<li>M. Karpiński, K. Piecuch, <em>On vertex coloring without monochromatic triangles</em>, W: Computer Science - Theory and Applications : 13th International Computer Science Symposium in Russia, CSR 2018, Moscow, Russia, June 6-10, 2018 : Proceedings / Fedor V. Fomin, Vladimir V. Podolskii (eds.). - Cham : Springer International Publishing , 2018. - (Lecture Notes in Computer Science ; 10846). - S. 220-231. - Bibliogr. - Streszcz. w jęz. ang. (<a href=https://doi.org/10.1007/978-3-319-90530-3_19>https://doi.org/10.1007/978-3-319-90530-3_19</a>).<li>L. Gąsieniec, G. Stachowiak, <em>Fast space optimal leader election in population protocols</em>, W: Proceedings of the Twenty-Ninth Annual ACM-SIAM Symposium on Discrete Algorithms, SODA 2018, New Orleans, LA, USA, January 7-10, 2018 / Artur Czumaj (ed.). - Philadelphia : Society for Industrial and Applied Mathematics, 2018. - (Proceedings).- S. 2653-2667  (<a href=https://doi.org/10.1137/1.9781611975031.169>https://doi.org/10.1137/1.9781611975031.169</a>).<li>I. Podolak, A. Roman, M. Szykuła, B. Zieliński, <em>A machine learning approach to synchronization of automata</em>, W: Expert Systems with Applications. - Vol. 97 (2018), s. 357-371  (<a href=https://doi.org/10.1016/j.eswa.2017.12.043>https://doi.org/10.1016/j.eswa.2017.12.043</a>).<li>M. Berlinkov, R. Ferens, M. Szykuła, <em>Complexity of preimage problems for deterministic finite automata</em>, W: 43rd International Symposium on Mathematical Foundations of Computer Science (MFCS 2018) / Igor Potapov, Paul Spirakis, James Worrell (eds.). - Wadern : Schloss Dagstuhl - Leibniz-Zentrum für Informatik, 2018. - (LIPIcs - Leibniz International Proceedings in Informatics ; 117).- S. 32:1-32:14  (<a href=https://doi.org/10.4230/LIPIcs.MFCS.2018.32>https://doi.org/10.4230/LIPIcs.MFCS.2018.32</a>).<li>A. Ryzhikov, M. Szykuła, <em>Finding short synchronizing words for prefix codes</em>, W: 43rd International Symposium on Mathematical Foundations of Computer Science (MFCS 2018) / Igor Potapov, Paul Spirakis, James Worrell (eds.). - Wadern : Schloss Dagstuhl - Leibniz-Zentrum für Informatik, 2018. - (LIPIcs - Leibniz International Proceedings in Informatics ; 117).- S. 21:1-21:14  (<a href=https://doi.org/10.4230/LIPIcs.MFCS.2018.21>https://doi.org/10.4230/LIPIcs.MFCS.2018.21</a>).<li>M. Szykuła, <em>Improving the upper bound on the length of the shortest reset words</em>, W: 35th Symposium on Theoretical Aspects of Computer Science (STACS 2018) / Rolf Niedermeier, Brigitte Vallée (Eds.). - Wadern : Schloss Dagstuhl - Leibniz-Zentrum für Informatik, 2018. - (LIPIcs - Leibniz International Proceedings in Informatics ; 96).- S. 56:1-56:13  (<a href=https://doi.org/10.4230/LIPIcs.STACS.2018.56>https://doi.org/10.4230/LIPIcs.STACS.2018.56</a>).<li>J. Brzozowski, L. Kari, B. Li, M. Szykuła, <em>State complexity of overlap assembly</em>, W: Implementation and Application of Automata : 23rd International Conference, CIAA 2018, Charlottetown, PE, Canada, July 30 - August 2, 2018, Proceedings / Cezar Câmpeanu (ed.). - Cham : Springer International Publishing - Springer, 2018. - (Lecture Notes in Computer Science ; 10977).- S. 109-120  (<a href=https://doi.org/10.1007/978-3-319-94812-6_10>https://doi.org/10.1007/978-3-319-94812-6_10</a>).<li>J. Brzozowski, M. Szykuła, Y. Ye, <em>Syntactic complexity of regular ideals</em>, W: Theory of Computing Systems. - Vol. 62, iss. 5 (2018), s. 1175-1202  (<a href=https://doi.org/10.1007/s00224-017-9803-8>https://doi.org/10.1007/s00224-017-9803-8</a>).<li>J. Brzozowski, M. Szykuła, <em>Syntactic complexity of suffix-free languages</em>, W: Information and Computation. - Vol. 259, Part 2 (2018), s. 174-190  (<a href=https://doi.org/10.1016/j.ic.2017.08.014>https://doi.org/10.1016/j.ic.2017.08.014</a>).</ol><h1>Zakład Teorii Informatyki i Baz Danych</h1><ol><li>E. Kieroński, L. Tendera, <em>Finite satisfiability of the two-variable guarded fragment with transitive guards and related variants</em>, W: ACM Transactions on Computational Logic. - Vol. 19, iss. 2 (2018) , s. 8:1-8:34  (<a href=https://doi.org/10.1145/3174805>https://doi.org/10.1145/3174805</a>).<li>E. Kieroński, I. Pratt-Hartmann, L. Tendera, <em>Two-variable logics with counting and semantic constraints</em>, W: ACM SIGLOG News. - Vol. 5, iss. 3 (2018), s. 22-43 .<li>D. Danielski, E. Kieroński, <em>Unary negation fragment with equivalence relations has the finite model property</em>, W: Proceedings of the 33rd Annual ACM/IEEE Symposium on Logic in Computer Science - LICS '18. - New York : ACM, 2018.- S. 285-294  (<a href=https://doi.org/10.1145/3209108.3209205>https://doi.org/10.1145/3209108.3209205</a>).<li>G. Głuch, J. Marcinkowski, P. Ostropolski-Nalewaja, <em>Can one escape Red Chains?: regular path queries determinacy is undecidable</em>, W: Proceedings of the 33rd Annual ACM/IEEE Symposium on Logic in Computer Science - LICS '18. - New York : ACM, 2018. - S. 492-501 (<a href=https://doi.org/10.1145/3209108.3209120>https://doi.org/10.1145/3209108.3209120</a>).<li>J. Michaliszyn, J. Otop, <em>Average stack cost of büchi pushdown automata</em>, W: 37th IARCS Annual Conference on Foundations of Software Technology and Theoretical Computer Science (FSTTCS 2017) / Satya Lokam and R. Ramanujam (eds.). - Wadern : Schloss Dagstuhl - Leibniz-Zentrum für Informatik, 2018. - (LIPIcs - Leibniz International Proceedings in Informatics ; 93).- S. 42-1-42-13  (<a href=https://doi.org/10.4230/LIPIcs.FSTTCS.2017.42>https://doi.org/10.4230/LIPIcs.FSTTCS.2017.42</a>).<li>J. Michaliszyn, J. Otop, <em>Non-deterministic weighted automata on random words</em>, W: 29th International Conference on Concurrency Theory (CONCUR 2018) / Sven Schewe, Lijun Zhang (eds.). - Wadern : Schloss Dagstuhl - Leibniz-Zentrum für Informatik, 2018. - (LIPIcs - Leibniz International Proceedings in Informatics ; 118).- S. 10:1-10:16  (<a href=https://doi.org/10.4230/LIPIcs.CONCUR.2018.10>https://doi.org/10.4230/LIPIcs.CONCUR.2018.10</a>).<li>J. Michaliszyn, J. Otop, P. Wieczorek, <em>Querying best paths in graph databases</em>, W: 37th IARCS Annual Conference on Foundations of Software Technology and Theoretical Computer Science (FSTTCS 2017) / Satya Lokam and R. Ramanujam (eds.). - Wadern : Schloss Dagstuhl - Leibniz-Zentrum für Informatik, 2018. - (LIPIcs - Leibniz International Proceedings in Informatics ; 93).- S. 43-1-43-15  (<a href=https://doi.org/10.4230/LIPIcs.FSTTCS.2017.43>https://doi.org/10.4230/LIPIcs.FSTTCS.2017.43</a>).<li>J. Michaliszyn, J. Otop, P. Witkowski, <em>Satisfiability versus finite satisfiability in elementary modal logics</em>, W: Fundamenta Informaticae. - Vol. 163, iss. 2 (2018), s. 165-188 (<a href=https://doi.org/10.3233/FI-2018-1736>https://doi.org/10.3233/FI-2018-1736</a>).<li>K. Chatterjee, T. Henzinger, J. Otop, <em>Computing average response time</em>, W: Principles of Modeling : Essays Dedicated to Edward A. Lee on the Occasion of His 60th Birthday / Marten Lohstroh, Patricia Derler, Marjan Sirjani (eds.). - Cham : Springer International Publishing - Springer, 2018. - (Lecture Notes in Computer Science ; 10760).- S. 143-161  (<a href=https://doi.org/10.1007/978-3-319-95246-8_9>https://doi.org/10.1007/978-3-319-95246-8_9</a>).</ol>"
      ],
      "text/plain": [
       "<IPython.core.display.HTML object>"
      ]
     },
     "metadata": {},
     "output_type": "display_data"
    }
   ],
   "source": [
    "display(HTML(html))"
   ]
  },
  {
   "cell_type": "code",
   "execution_count": null,
   "metadata": {
    "collapsed": true
   },
   "outputs": [],
   "source": []
  }
 ],
 "metadata": {
  "kernelspec": {
   "display_name": "Python 3",
   "language": "python",
   "name": "python3"
  },
  "language_info": {
   "codemirror_mode": {
    "name": "ipython",
    "version": 3
   },
   "file_extension": ".py",
   "mimetype": "text/x-python",
   "name": "python",
   "nbconvert_exporter": "python",
   "pygments_lexer": "ipython3",
   "version": "3.6.3"
  }
 },
 "nbformat": 4,
 "nbformat_minor": 2
}
